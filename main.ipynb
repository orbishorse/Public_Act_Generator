x = 10
while x == 10:
  first = input("Input GA Number")
  second = input("Input Public Act Number")
  URL_begin = 'http://www.ilga.gov/legislation/publicacts/fulltext.asp?Name='  

  while len(first) < 3:
    first = '0' + str(first)
    #print(URL_begin+first+'-'+second)
  while len(second) < 4:
    second = '0' + str(second)
  print(URL_begin+first+'-'+second)
  
